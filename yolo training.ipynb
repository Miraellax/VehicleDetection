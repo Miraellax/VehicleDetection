{
 "cells": [
  {
   "cell_type": "code",
   "execution_count": null,
   "id": "aee91617-4a14-477c-825c-46dc7cb3530b",
   "metadata": {},
   "outputs": [],
   "source": [
    "loader = torch.utils.data.DataLoader(train_ds, 10, collate_fn=collate_fn)"
   ]
  },
  {
   "cell_type": "code",
   "execution_count": null,
   "id": "326cdf2d-e589-4d61-961e-22c2836fb44c",
   "metadata": {},
   "outputs": [],
   "source": [
    "device = torch.device(\"cuda\" if torch.cuda.is_available() else \"cpu\")\n",
    "\n",
    "torch.manual_seed(21)\n",
    "EPOCHS = 15 # Harry Potter 20, Cards 15\n",
    "model = Detector().to(device)\n",
    "opt = torch.optim.AdamW(model.parameters(), lr=0.05)\n",
    "\n",
    "for e in tqdm(range(EPOCHS)):\n",
    "    pbar = tqdm(loader, leave=False)\n",
    "    epoch_losses = []\n",
    "    for batch in pbar:\n",
    "      opt.zero_grad()\n",
    "      pred = model(batch).to(device)\n",
    "      loss = special_loss(pred, batch[\"target\"]).cpu()\n",
    "      epoch_losses.append(loss.item())\n",
    "      loss.backward()\n",
    "      opt.step()\n",
    "\n",
    "\n",
    "    print(f\"Epoch {e} done; Train loss {np.mean(epoch_losses):.3f};\")"
   ]
  }
 ],
 "metadata": {
  "kernelspec": {
   "display_name": "Python 3 (ipykernel)",
   "language": "python",
   "name": "python3"
  },
  "language_info": {
   "codemirror_mode": {
    "name": "ipython",
    "version": 3
   },
   "file_extension": ".py",
   "mimetype": "text/x-python",
   "name": "python",
   "nbconvert_exporter": "python",
   "pygments_lexer": "ipython3",
   "version": "3.9.13"
  }
 },
 "nbformat": 4,
 "nbformat_minor": 5
}
